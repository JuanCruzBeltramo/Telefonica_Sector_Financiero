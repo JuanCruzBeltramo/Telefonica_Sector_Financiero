{
 "cells": [
  {
   "cell_type": "markdown",
   "metadata": {},
   "source": [
    "- Marcar una deadline de 1 semana antes de entregar el proyecto final\n",
    "\n",
    "Identificar cual es el principal proposito del proyecto y que todo el equipo lo tenga claro en todo momento\n",
    "\n",
    "### Definir roles en el equipo:\n",
    "\n",
    "\t- Programadores\n",
    "\t- Analistas: comprobar que el analista entiende todo los datos y los gráficos y tambien presente el pp (que cuente una historia)\n",
    "\t- Comprobaciones de resultado\n",
    "\t- Hacer simulaciones de presentacion en equipo para mejorar las ideas \n",
    "\t\n",
    "\n",
    "- Identificar los principales retos del proyectos para dedicarle su debido tiempo.\n",
    "\n",
    "- Calcular media y mediana de los datos\n",
    "\n",
    "- Estudiar el modelo de mercado del cliente\n",
    "\n",
    "- Explicar el modelo que se use \n",
    "- Estudiar la media y la mediana si son similares quedamos con los dos si la mediana es mas alta nos quedamos con esta presentacion:\n",
    "\n",
    "\t- menos gráficos\n",
    "\t- menos información\n",
    "\t- estudiar metodos e oratoria\n",
    "\t- graficos con porcentajes y numeros reales\n",
    "\t- exponer bien las métricas (por ejemplo si hablamos de euros no poner dolares en los gráficos)\n",
    "\t- estudiar los tipos de tendencia que se verán en los gráfico\n",
    "\t- comprobar que los graficos no se repitan en la presentacion \n",
    "\t- que el presentador no lea el pp que tiene detrás \n",
    "\t- No usar vocabulario muy técnico de cara al público \n",
    "\t- La media de nota que nos hemos puesto en la ultima presentacion (3)\n",
    "\t. \"vetar\" palabras para evitar la presentacion\n",
    "\t- poner los datos relevantes pensando en quien es nuestro publico\n",
    "\t- exponer los consejos que podamos aportar a la empresa en la conclusion de la presntacion\n",
    "\t- No poner algo que puede generar dudas y yo no pueda resolverlas \n",
    "\n",
    "\n",
    "Si alguien se pierde sentarse con esa persona a explicarselo\n",
    "No perder de vista la conclusión (Es por lo que nos pagan)\n",
    "si pongo algo en la introducción debo mencionarlo en la conclusion \n",
    "\t\n",
    "\t\n",
    "**IMPORTANTE**\n",
    "\n",
    "Aporte Guille:\n",
    "\n",
    "\"que el equipo sepa realmente cual es el modelo de negocio y la demanda que nos facilita el 'jefe' ya que a la hora de presentar tenemos que hacerlo enfocando en el futuro y en el material que ofrecemos. Hay que hablar de que quieren que hagamos un proyecto para algo, en este caso la finalidad es hacer un modelo predictivo que te prediga X, y toda la parte de limpieza de datos y etc, es necesaria mencionarla pero sobran graficos irrelevantes que no hacen encontrar patrones para este modelo de negocio.\""
   ]
  }
 ],
 "metadata": {
  "language_info": {
   "name": "python"
  }
 },
 "nbformat": 4,
 "nbformat_minor": 2
}
